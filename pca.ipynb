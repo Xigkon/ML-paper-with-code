{
 "cells": [
  {
   "cell_type": "markdown",
   "metadata": {
    "colab_type": "text",
    "id": "Z0vJku-1NWJu"
   },
   "source": [
    "# 实验二  利用K-L变换法进行人脸识别\n",
    "主分量分析是一种有效的通过线性变换来降低特征维数的方法，也称为Karhunen-Loeve变换（K-L变换）。此变换是一种基于目标统计特性的最佳正交变换，它的最佳性体现在变换后产生的新的分量正交或不相关。\n",
    "\n",
    "编写用K-L变换法进行人脸识别的程序，对标准图像库进行人脸识别实验。\n",
    "ORL_faces图像库中有40组人脸图像，每组内的10幅图像取自同一个人，部分人脸图像如下图所示。利用每组中的前5幅人脸图像（共200幅）作为训练样本，生成人脸识别的分类器，显示“平均脸” 图像和“特征脸” 图像。用剩下的200幅图像作为测试样本，输出识别结果，检测识别率。\n"
   ]
  },
  {
   "cell_type": "code",
   "execution_count": null,
   "metadata": {
    "colab": {},
    "colab_type": "code",
    "id": "9I9ZtTJONVRv"
   },
   "outputs": [],
   "source": []
  },
  {
   "cell_type": "markdown",
   "metadata": {
    "colab_type": "text",
    "id": "DF_lcdgYRUS0"
   },
   "source": [
    "## 代码& 结果\n",
    "### 定义PCA类"
   ]
  },
  {
   "cell_type": "code",
   "execution_count": null,
   "metadata": {
    "colab": {},
    "colab_type": "code",
    "id": "daX1hGAvCyhh"
   },
   "outputs": [],
   "source": [
    "import numpy as np\n",
    "import matplotlib.pyplot as plt\n",
    "import os\n",
    "%matplotlib inline\n",
    "from PIL import Image\n",
    "\n",
    "class PCA:\n",
    "    def __init__(self,n_components=None,enegy=None):\n",
    "        '''\n",
    "            初始化时，n_components 和 enegy 必须有一个，同时存在时忽略enegy\n",
    "        '''\n",
    "        self.enegy=enegy\n",
    "        self.n_components=n_components\n",
    "        self.mean=None\n",
    "        self.eig_vector=None\n",
    "        self.final_index=None\n",
    "\n",
    "    def fit(self,X):\n",
    "        '''\n",
    "            传入 X 维度为 (N*p), N为样本数，p为维度\n",
    "            fit 仅训练样本\n",
    "        '''\n",
    "        def Mean(X):\n",
    "            return X.mean(axis=0)\n",
    "        def Cov(X):\n",
    "            return (X-Mean(X)).T.dot(X-Mean(X))/(X.shape[0])\n",
    "            return np.cov(X.T)\n",
    "        def Eig(X):\n",
    "            return np.linalg.eig(X)\n",
    "\n",
    "        self.mean=Mean(X)\n",
    "        centralized=X-self.mean\n",
    "        cov=Cov(centralized)\n",
    "        eig_value, eig_vector=Eig(cov)\n",
    "        self.eig_vector=eig_vector\n",
    "\n",
    "        sort_eig_index=np.argsort(-eig_value)\n",
    "        if self.n_components!=None:                                         ##如果指定选择前n个分量\n",
    "            self.final_index=sort_eig_index[:self.n_components]\n",
    "        elif self.enegy!=None:                                              ##如果没有指定前n个分量，且指定保留能量比例\n",
    "            now_enegy=0.\n",
    "            tot_enegy=eig_value.sum()\n",
    "            for i in range(eig_vector.shape[0]):\n",
    "                if now_enegy/tot_enegy>self.enegy:\n",
    "                    break\n",
    "                now_enegy+=eig_value[sort_eig_index[i]]\n",
    "            self.final_index=sort_eig_index[:i]\n",
    "\n",
    "        print('保留的主成分: '+str(self.final_index.shape[0]))\n",
    "\n",
    "    def transform(self,X):\n",
    "        '''\n",
    "            传入 X 维度为 (N*p), N为样本数，p为维度\n",
    "            返回转换后的数据，维度为 (N*k), k是保留的主成分数\n",
    "        '''\n",
    "        assert X.shape[1]==self.eig_vector.shape[1]\n",
    "        centralized=X-self.mean\n",
    "        new_components=self.eig_vector[:,self.final_index].T.dot(centralized.T).T\n",
    "        return new_components\n",
    "    \n",
    "    def inverse_transform(self,X_pca):\n",
    "        assert X_pca.shape[1]==self.component_.shape[0]\n",
    "        pass\n",
    "        return X_pca.dot(self.component_)\n",
    "\n",
    "\n",
    "#A = np.array([[1, 2,10,100,100], [2, 3,20,200,200], [3, 4,30,300,300],[4,5,40,400,400],[4,5,40,400,400]])\n",
    "#print('A shape :'+str(A.shape))\n",
    "#pca=PCA(enegy=0.99)\n",
    "#pca.fit(A)\n",
    "#pca.transform(A)\n"
   ]
  },
  {
   "cell_type": "markdown",
   "metadata": {
    "colab_type": "text",
    "id": "mioxeiU4RlDu"
   },
   "source": [
    "### 读取数据& 训练"
   ]
  },
  {
   "cell_type": "code",
   "execution_count": 39,
   "metadata": {
    "colab": {
     "base_uri": "https://localhost:8080/",
     "height": 35
    },
    "colab_type": "code",
    "id": "7kJCZ0CXBrwu",
    "outputId": "4c9a96c7-7d97-4be3-a952-ac6a9ceb8ec9"
   },
   "outputs": [
    {
     "name": "stdout",
     "output_type": "stream",
     "text": [
      "保留的主成分: 170\n"
     ]
    }
   ],
   "source": [
    "## 读取训练图片及测试图片,reshape为输入格式（N，P）\n",
    "y_train=[]\n",
    "x_train=[]\n",
    "for i in range(40):\n",
    "    for j in range(1,6):\n",
    "        im=Image.open('./faces/{}/{}.pgm'.format(i,j))\n",
    "        im=np.array(im)\n",
    "        y_train.append(i)\n",
    "        x_train.append(im.reshape((-1)))\n",
    "x_train=np.array(x_train,dtype=np.float64) \n",
    "\n",
    "y_test=[]\n",
    "x_test=[]\n",
    "for i in range(40):\n",
    "    for j in range(6,11):\n",
    "        im=Image.open('./faces/{}/{}.pgm'.format(i,j))\n",
    "        im=np.array(im)\n",
    "        y_test.append(i)\n",
    "        x_test.append(im.reshape((-1)))\n",
    "x_test=np.array(x_test,dtype=np.float64)\n",
    "\n",
    "## 训练以及映射\n",
    "pca=PCA(enegy=0.99)\n",
    "pca.fit(x_train)\n",
    "rebuild_x_train=pca.transform(x_train)\n",
    "rebuild_x_test=pca.transform(x_test)\n",
    "\n"
   ]
  },
  {
   "cell_type": "markdown",
   "metadata": {
    "colab_type": "text",
    "id": "E8WkBOCzQrw7"
   },
   "source": [
    "### 准确率&结果展示\n",
    "第一行为样本0，第二行为样本1，以此类推"
   ]
  },
  {
   "cell_type": "code",
   "execution_count": 43,
   "metadata": {
    "colab": {
     "base_uri": "https://localhost:8080/",
     "height": 755
    },
    "colab_type": "code",
    "id": "K8TB5riGCc8j",
    "outputId": "a2a1eee6-1f70-4712-a881-3d7b3d6bc864"
   },
   "outputs": [
    {
     "name": "stdout",
     "output_type": "stream",
     "text": [
      "准确率 ：0.895\n"
     ]
    },
    {
     "data": {
      "text/plain": [
       "array([[ 5,  0,  0,  0,  5],\n",
       "       [ 1,  1,  1,  1,  1],\n",
       "       [ 2,  2,  2,  2,  2],\n",
       "       [ 3,  3,  3,  3,  3],\n",
       "       [ 4,  4,  4,  4,  4],\n",
       "       [ 5,  5,  5,  5,  0],\n",
       "       [ 6,  6,  6,  6,  6],\n",
       "       [ 7,  7,  7,  7,  7],\n",
       "       [ 8,  8,  8,  8,  8],\n",
       "       [ 9,  9,  9,  9,  9],\n",
       "       [10, 10, 10, 10, 38],\n",
       "       [11, 11, 15, 11, 11],\n",
       "       [12, 12, 12, 12, 12],\n",
       "       [13, 13, 13, 13, 13],\n",
       "       [14, 14, 14, 22, 14],\n",
       "       [15, 15, 15, 15, 15],\n",
       "       [16, 16,  1, 16, 16],\n",
       "       [36, 24, 17, 17, 36],\n",
       "       [18, 18, 18, 18, 18],\n",
       "       [19, 19, 19, 15, 19],\n",
       "       [20, 20, 38, 20, 20],\n",
       "       [21, 21, 21, 21, 21],\n",
       "       [22, 22, 22, 22, 22],\n",
       "       [23, 23, 23, 23, 23],\n",
       "       [24, 24, 24, 24, 24],\n",
       "       [25, 25, 25, 25, 25],\n",
       "       [26, 26, 26, 26, 26],\n",
       "       [17, 17, 17, 27, 27],\n",
       "       [28, 28, 37, 28, 28],\n",
       "       [29, 29, 29, 29, 29],\n",
       "       [30, 30, 30, 30, 30],\n",
       "       [31, 30, 31, 31, 31],\n",
       "       [32,  2, 32, 32, 32],\n",
       "       [33, 33, 33, 33, 33],\n",
       "       [34, 34, 34, 34, 34],\n",
       "       [35, 35, 35, 35, 35],\n",
       "       [24, 36, 36, 36, 17],\n",
       "       [37, 37, 37, 37, 37],\n",
       "       [38, 38, 38, 38, 38],\n",
       "       [39, 39, 39, 39, 29]])"
      ]
     },
     "execution_count": 43,
     "metadata": {
      "tags": []
     },
     "output_type": "execute_result"
    }
   ],
   "source": [
    "ans=[]\n",
    "for i in range(rebuild_x_test.shape[0]):\n",
    "    dist=[]\n",
    "    for j in range(rebuild_x_train.shape[0]):\n",
    "        dist.append(np.sqrt(np.sum(np.square(rebuild_x_test[i] - rebuild_x_train[j])))) #使用欧拉距离\n",
    "    dist=np.array(dist)\n",
    "    ans.append(np.argmin(dist)//5)\n",
    "ans=np.array(ans)\n",
    "\n",
    "correct=(ans==y_test).sum()\n",
    "acc=correct/ans.shape[0]\n",
    "print('准确率 ：'+str(acc))\n",
    "ans.reshape(-1,5)"
   ]
  },
  {
   "cell_type": "code",
   "execution_count": null,
   "metadata": {
    "colab": {},
    "colab_type": "code",
    "id": "_49p1RfdEj0d"
   },
   "outputs": [],
   "source": []
  },
  {
   "cell_type": "code",
   "execution_count": null,
   "metadata": {
    "colab": {},
    "colab_type": "code",
    "id": "8Ja70LIlEjyc"
   },
   "outputs": [],
   "source": []
  }
 ],
 "metadata": {
  "colab": {
   "collapsed_sections": [],
   "name": "pca.ipynb",
   "provenance": []
  },
  "kernelspec": {
   "display_name": "Python 3",
   "language": "python",
   "name": "python3"
  },
  "language_info": {
   "codemirror_mode": {
    "name": "ipython",
    "version": 3
   },
   "file_extension": ".py",
   "mimetype": "text/x-python",
   "name": "python",
   "nbconvert_exporter": "python",
   "pygments_lexer": "ipython3",
   "version": "3.7.4"
  }
 },
 "nbformat": 4,
 "nbformat_minor": 4
}
